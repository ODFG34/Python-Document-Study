{
 "cells": [
  {
   "cell_type": "markdown",
   "metadata": {},
   "source": [
    "# Ch 8. 에러와 예외"
   ]
  },
  {
   "cell_type": "markdown",
   "metadata": {},
   "source": [
    "## 문법 에러"
   ]
  },
  {
   "cell_type": "markdown",
   "metadata": {},
   "source": [
    "- 문법 에러 또는 파싱 에러\n",
    "- 파서는 문제가 되는 줄을 다시 보여주고 줄에서 에러가 감지된 가장 앞의 위치를 가리키는 작은 화살표를 표시.\n",
    "- 에러는 화살표 앞에오는 토큰이 원인"
   ]
  },
  {
   "cell_type": "markdown",
   "metadata": {},
   "source": [
    "## 예외"
   ]
  },
  {
   "cell_type": "markdown",
   "metadata": {},
   "source": [
    "- 문장이나 표현식이 문법적으로 올바르다 할지라도 실행 시 에러 발생 가능\n",
    "- 실행 중에 감지되는 에러들을 에외라고 부르고 무조건 치명적이지는 않음"
   ]
  },
  {
   "cell_type": "markdown",
   "metadata": {},
   "source": [
    " \n"
   ]
  },
  {
   "cell_type": "markdown",
   "metadata": {},
   "source": [
    "## 예외 처리하기"
   ]
  },
  {
   "cell_type": "markdown",
   "metadata": {},
   "source": [
    "- 선택한 예외를 처리하는 프로그램 만들 수 있음"
   ]
  },
  {
   "cell_type": "code",
   "execution_count": 1,
   "metadata": {},
   "outputs": [
    {
     "name": "stdout",
     "output_type": "stream",
     "text": [
      "Please enter a number: q\n",
      "Oops! That was no valid number. Try again...\n",
      "Please enter a number: 1\n"
     ]
    }
   ],
   "source": [
    "while True :\n",
    "    try :\n",
    "        x = int(input(\"Please enter a number: \"))\n",
    "        break\n",
    "        \n",
    "    except ValueError:\n",
    "        print(\"Oops! That was no valid number. Try again...\")"
   ]
  },
  {
   "cell_type": "markdown",
   "metadata": {},
   "source": [
    "### try 문\n",
    "\n",
    "1. try절 실행\n",
    "2. 예외가 발생하지 않으면 except 절을 건너뛰고 try문 실행 종료\n",
    "3. try절 실행하는 동안 예외가 발생하면 절의 남은 부분들을 건너뛰고 except 뒤에 오는 예외문과 일치한 예외 발생 일 경우 그 except절 실행\n",
    "4. 일치하지 않는 예외 발생일 경우엔 외부에 있는 try문으로 전달\n",
    "5. 처리기가 발견되지 않으면 처리되지 않은 예외라고 메시지 출력하면서 실행 멈춤         \n",
    "             \n",
    "- 하나 이상의 except절을 가질 수 있고 이에 따라 각 예외 종류마다 다른 예외 처리기를 지정 가능\n",
    "- try절에서 발생한 예외만 처리, 만약 예외 처리기에서 예외가 발생한다면 처리하지 않는다.\n",
    "- except절은괄호가 있는 튜플로 여러 개의 예외를 지정 가능"
   ]
  },
  {
   "cell_type": "code",
   "execution_count": null,
   "metadata": {},
   "outputs": [],
   "source": [
    "# 여러 예외에 대해서 같은 처리기 지정\n",
    "except (RuntimeError, TypeError, NameError) :\n",
    "    pass"
   ]
  },
  {
   "cell_type": "code",
   "execution_count": null,
   "metadata": {},
   "outputs": [],
   "source": [
    "class B (Exception):\n",
    "    pass\n",
    "\n",
    "class C (B) :\n",
    "    pass\n",
    "\n",
    "class D(C) :\n",
    "    pass"
   ]
  },
  {
   "cell_type": "code",
   "execution_count": null,
   "metadata": {},
   "outputs": [],
   "source": [
    "for cls in [B,C,D] :\n",
    "    try :\n",
    "        raise cls()\n",
    "        \n",
    "    except D:\n",
    "        print('D')\n",
    "        \n",
    "    except C :\n",
    "        print('C')\n",
    "        \n",
    "    except B :\n",
    "        print('B')"
   ]
  },
  {
   "cell_type": "markdown",
   "metadata": {},
   "source": [
    "### raise \n",
    "- error를 직접 일으키는 방법\n",
    "- 사용자가 직접 에러를 발생시키는 기능\n",
    "- 많이 사용하면 코드를 읽기 어려워짐"
   ]
  },
  {
   "cell_type": "code",
   "execution_count": 2,
   "metadata": {},
   "outputs": [
    {
     "name": "stdout",
     "output_type": "stream",
     "text": [
      "잘못된 값을 넣었습니다!\n"
     ]
    }
   ],
   "source": [
    "def rsp(mine, yours):\n",
    "    allowed = ['가위','바위', '보']\n",
    "    if mine not in allowed:\n",
    "        raise ValueError\n",
    "    if yours not in allowed:\n",
    "        raise ValueError\n",
    "\n",
    "try:\n",
    "    rsp('가위', '바')\n",
    "except ValueError:\n",
    "    print('잘못된 값을 넣었습니다!')"
   ]
  },
  {
   "cell_type": "markdown",
   "metadata": {},
   "source": [
    " "
   ]
  },
  {
   "cell_type": "markdown",
   "metadata": {},
   "source": [
    " "
   ]
  },
  {
   "cell_type": "markdown",
   "metadata": {},
   "source": [
    "- 마지막 except 절은 예외 이름을 생략할 수 있는데 와일드 카드 역할을 함\n",
    "\n",
    "   - 사용 시 극도의 주의를 필요로 함\n",
    "- 프로그래밍 에러를 가리기 쉽기 때문에 에러 메시지를 인쇄한 후에 예외를 다시 일으키는데 사용 될 수 있음(호출자도 예외를 처리 가능)"
   ]
  },
  {
   "cell_type": "code",
   "execution_count": null,
   "metadata": {},
   "outputs": [],
   "source": [
    "import sys\n",
    "\n",
    "try :\n",
    "    f= open('myfile.txt')\n",
    "    s = f.readline()\n",
    "    i = int(s.strip())\n",
    "    \n",
    "except OSError as err:\n",
    "    print(\"OS error : {0}\".format(err))\n",
    "    \n",
    "except Value Error :\n",
    "    print(\"Could not convert data to an inteager.\")\n",
    "    \n",
    "except :\n",
    "    print(\"Unexpected error : \", sys.exc_info()[0])\n",
    "    raise"
   ]
  },
  {
   "cell_type": "markdown",
   "metadata": {},
   "source": [
    " "
   ]
  },
  {
   "cell_type": "markdown",
   "metadata": {},
   "source": [
    "- try … except 문은 선택적인 else 절 을 갖는데, 있다면 모든 except 절 뒤에 와야함 "
   ]
  },
  {
   "cell_type": "code",
   "execution_count": null,
   "metadata": {},
   "outputs": [],
   "source": [
    "for arg in sts.argv[1:] :\n",
    "    try :\n",
    "        f = open(arg, 'r') \n",
    "        \n",
    "    except OSError :\n",
    "        print('cannot open', arg) \n",
    "        \n",
    "    else :\n",
    "        print(arg, 'has', len(f.readlines()), 'lines')\n",
    "        f.close()"
   ]
  },
  {
   "cell_type": "markdown",
   "metadata": {},
   "source": [
    "=> else 절의 사용이 try 절에 코드를 추가하는 것보다 좋은데, try … except 문에 의해 보호되고 있는 코드가 일으키지 않은 예외를 우연히 잡게 되는 것을 방지하기 때문입니다."
   ]
  },
  {
   "cell_type": "markdown",
   "metadata": {},
   "source": [
    " "
   ]
  },
  {
   "cell_type": "markdown",
   "metadata": {},
   "source": [
    " "
   ]
  },
  {
   "cell_type": "markdown",
   "metadata": {},
   "source": [
    "- except 절은 예외 이름 뒤에 변수를 지정 가능"
   ]
  },
  {
   "cell_type": "code",
   "execution_count": null,
   "metadata": {},
   "outputs": [],
   "source": [
    "try :\n",
    "    raise Exception('spam',  'eggs')\n",
    "    \n",
    "except Exception as inst :\n",
    "    print(type(inst)) # the exception instance\n",
    "    \n",
    "    print(inst.args) # arguments stored in .args\n",
    "    \n",
    "    print(inst) # __str__ allows args to be printed directly\n",
    "    \n",
    "    x, y = inst.args # unpack args\n",
    "    \n",
    "    print('x =', x)\n",
    "    \n",
    "    print('y =', y)"
   ]
  },
  {
   "cell_type": "markdown",
   "metadata": {},
   "source": [
    "=> 예외가 인자를 가지면 처리되지 않은 예외 메시지의 마지막 부분에 인쇄\n",
    "\n",
    "=> 예외 처리기는 단지 try 절에 직접 등장하는 예외뿐만 아니라, try 절에서 (간접적으로라도) 호출되는 내부 함수들에서 발생하는 예외들도 처리      \n",
    "             \n",
    "ex)"
   ]
  },
  {
   "cell_type": "code",
   "execution_count": 4,
   "metadata": {},
   "outputs": [
    {
     "name": "stdout",
     "output_type": "stream",
     "text": [
      "Handling run-time error:  division by zero\n"
     ]
    }
   ],
   "source": [
    "def this_fails() :\n",
    "    x = 1/0\n",
    "    \n",
    "try :\n",
    "    this_fails()\n",
    "    \n",
    "except ZeroDivisionError as err :\n",
    "    print('Handling run-time error: ', err)"
   ]
  },
  {
   "cell_type": "markdown",
   "metadata": {},
   "source": [
    " \n"
   ]
  },
  {
   "cell_type": "markdown",
   "metadata": {},
   "source": [
    " \n"
   ]
  },
  {
   "cell_type": "markdown",
   "metadata": {},
   "source": [
    "## 예외 일으키기"
   ]
  },
  {
   "cell_type": "markdown",
   "metadata": {},
   "source": [
    "### raise문은 프로그래머가 지정한 예외가 발생하도록 강제할 수 있게함\n",
    "\n",
    "ex)"
   ]
  },
  {
   "cell_type": "code",
   "execution_count": 6,
   "metadata": {},
   "outputs": [
    {
     "ename": "NameError",
     "evalue": "HiThere",
     "output_type": "error",
     "traceback": [
      "\u001b[1;31m---------------------------------------------------------------------------\u001b[0m",
      "\u001b[1;31mNameError\u001b[0m                                 Traceback (most recent call last)",
      "\u001b[1;32m<ipython-input-6-72c183edb298>\u001b[0m in \u001b[0;36m<module>\u001b[1;34m\u001b[0m\n\u001b[1;32m----> 1\u001b[1;33m \u001b[1;32mraise\u001b[0m \u001b[0mNameError\u001b[0m\u001b[1;33m(\u001b[0m\u001b[1;34m'HiThere'\u001b[0m\u001b[1;33m)\u001b[0m\u001b[1;33m\u001b[0m\u001b[1;33m\u001b[0m\u001b[0m\n\u001b[0m",
      "\u001b[1;31mNameError\u001b[0m: HiThere"
     ]
    }
   ],
   "source": [
    "raise NameError('HiThere')"
   ]
  },
  {
   "cell_type": "markdown",
   "metadata": {},
   "source": [
    "- raise에 제공하는 단일 인자는 발생시킬 예외를 가리킵니다.   \n",
    "- 예외 instance이거나 예외 class(Exception를 계승하는 class)이어야합니다.\n",
    "- 예외 class가 전달되면 묵시적으로 인자 없이 생성자를 호출해서 instance를 만듦"
   ]
  },
  {
   "cell_type": "code",
   "execution_count": 8,
   "metadata": {},
   "outputs": [
    {
     "ename": "ValueError",
     "evalue": "",
     "output_type": "error",
     "traceback": [
      "\u001b[1;31m---------------------------------------------------------------------------\u001b[0m",
      "\u001b[1;31mValueError\u001b[0m                                Traceback (most recent call last)",
      "\u001b[1;32m<ipython-input-8-ffbe942304ee>\u001b[0m in \u001b[0;36m<module>\u001b[1;34m\u001b[0m\n\u001b[1;32m----> 1\u001b[1;33m \u001b[1;32mraise\u001b[0m \u001b[0mValueError\u001b[0m \u001b[1;31m# shorthand for 'raise ValueError()'\u001b[0m\u001b[1;33m\u001b[0m\u001b[1;33m\u001b[0m\u001b[0m\n\u001b[0m",
      "\u001b[1;31mValueError\u001b[0m: "
     ]
    }
   ],
   "source": [
    "raise ValueError # shorthand for 'raise ValueError()'"
   ]
  },
  {
   "cell_type": "markdown",
   "metadata": {},
   "source": [
    "- 만약 예외가 발생했는지는 알아야 하지만 처리하고 싶지는 않다면, 더 간단한 형태의 raise문이 그 예외를 다시 일으킬 수 있게 합니다."
   ]
  },
  {
   "cell_type": "code",
   "execution_count": 7,
   "metadata": {},
   "outputs": [
    {
     "name": "stdout",
     "output_type": "stream",
     "text": [
      "An exception flew by!\n"
     ]
    },
    {
     "ename": "NameError",
     "evalue": "HiThere",
     "output_type": "error",
     "traceback": [
      "\u001b[1;31m---------------------------------------------------------------------------\u001b[0m",
      "\u001b[1;31mNameError\u001b[0m                                 Traceback (most recent call last)",
      "\u001b[1;32m<ipython-input-7-f10b40615515>\u001b[0m in \u001b[0;36m<module>\u001b[1;34m\u001b[0m\n\u001b[0;32m      1\u001b[0m \u001b[1;32mtry\u001b[0m \u001b[1;33m:\u001b[0m\u001b[1;33m\u001b[0m\u001b[1;33m\u001b[0m\u001b[0m\n\u001b[1;32m----> 2\u001b[1;33m     \u001b[1;32mraise\u001b[0m \u001b[0mNameError\u001b[0m\u001b[1;33m(\u001b[0m\u001b[1;34m'HiThere'\u001b[0m\u001b[1;33m)\u001b[0m\u001b[1;33m\u001b[0m\u001b[1;33m\u001b[0m\u001b[0m\n\u001b[0m\u001b[0;32m      3\u001b[0m \u001b[1;32mexcept\u001b[0m \u001b[0mNameError\u001b[0m \u001b[1;33m:\u001b[0m\u001b[1;33m\u001b[0m\u001b[1;33m\u001b[0m\u001b[0m\n\u001b[0;32m      4\u001b[0m     \u001b[0mprint\u001b[0m\u001b[1;33m(\u001b[0m\u001b[1;34m'An exception flew by!'\u001b[0m\u001b[1;33m)\u001b[0m\u001b[1;33m\u001b[0m\u001b[1;33m\u001b[0m\u001b[0m\n\u001b[0;32m      5\u001b[0m     \u001b[1;32mraise\u001b[0m\u001b[1;33m\u001b[0m\u001b[1;33m\u001b[0m\u001b[0m\n",
      "\u001b[1;31mNameError\u001b[0m: HiThere"
     ]
    }
   ],
   "source": [
    "try :\n",
    "    raise NameError('HiThere')\n",
    "except NameError :\n",
    "    print('An exception flew by!')\n",
    "    raise    "
   ]
  },
  {
   "cell_type": "markdown",
   "metadata": {},
   "source": [
    " "
   ]
  },
  {
   "cell_type": "markdown",
   "metadata": {},
   "source": [
    " \n"
   ]
  },
  {
   "cell_type": "markdown",
   "metadata": {},
   "source": [
    "## 사용자 정의 예외"
   ]
  },
  {
   "cell_type": "markdown",
   "metadata": {},
   "source": [
    "- 새 예외 class를 만듦으로써 프로그램은 자신의 예외에 이름을 붙일 수 있음      \n",
    "        \n",
    "              \n",
    "- 예외는 보통 직접적으로나 간접적으로 Exception class를 계승     \n",
    "              \n",
    "               \n",
    "- 예외 class는 다른 class들이 할 수 있는 어떤 것도 가능하도록 정의 될 수 있지만, 보통은 간단하게 유지       \n",
    "               \n",
    "                \n",
    "- 종종 예외 처리기가 에러에 관한 정보를 추출할 수 있도록 하기 위한 몇 가지 attribute들을 제공하기만 함       \n",
    "               \n",
    "                     \n",
    "- 여러 가지 서로 다른 error들을 일으킬 수 있는 module을 만들 때, 흔히 사용되는 방식은 module에서 정의되는 예외들의 베이스클래스를 정의한 후, 각기 다른 에러 조건마다 특정한 예외 class를 sub class로 만드는 것."
   ]
  },
  {
   "cell_type": "code",
   "execution_count": 9,
   "metadata": {},
   "outputs": [],
   "source": [
    "class Error(Exception) :\n",
    "    \"\"\"\"Base class or exceptions in this module.\"\"\"\n",
    "    pass\n",
    "\n",
    "\n",
    "class InputError(Error) :\n",
    "    \"\"\" Exception raised for errors in the input.\n",
    "    Attributes :\n",
    "        expression -- input expression in which the error occurred\n",
    "        message -- explanation of the error \n",
    "        \"\"\"\n",
    "    \n",
    "    def __init__(self, expression, message) :\n",
    "        self.previous = previous\n",
    "        self.next = next\n",
    "        self.message = message\n",
    "        \n",
    "class TransitionError(Error) :\n",
    "    \"\"\" Raised when an operation attemptsa state transitionthat's not allowed.\n",
    "    \n",
    "    Attributes :\n",
    "         previous -- state at beginning of transition\n",
    "         next -- attempted new state\n",
    "         message -- explanation of why the specific transition is not allowed\n",
    "    \"\"\"\n",
    "    \n",
    "    def __init__ (self, previous, next, message) :\n",
    "        self.previous = previous\n",
    "        self.next = next\n",
    "        self.message = message\n"
   ]
  },
  {
   "cell_type": "markdown",
   "metadata": {},
   "source": [
    "=> 대부분의 예외는 표준 예외들의 이름들과 유사하게, Error로 끝나느 이름으로 정의\n",
    "\n",
    "- 많은 표준 module들은 그들이 정의하는함수들에서 발생할 수 있는 그 자신만의 예외들을 정의\n",
    "- class에 관한 더 자세한 정보는 class 장에서 다룸"
   ]
  },
  {
   "cell_type": "markdown",
   "metadata": {},
   "source": [
    " \n"
   ]
  },
  {
   "cell_type": "markdown",
   "metadata": {},
   "source": [
    "## 뒷정리 동작 정의하기"
   ]
  },
  {
   "cell_type": "markdown",
   "metadata": {},
   "source": [
    "- try문은 또 다른 선택적 절을 가질 수 있는데 모든 상황에 실행되어야만하는 뒷정리 동작을 정의하는데 사용"
   ]
  },
  {
   "cell_type": "code",
   "execution_count": null,
   "metadata": {},
   "outputs": [],
   "source": [
    "try :\n",
    "    raise KeyboardInterrupt\n",
    "\n",
    "finally :\n",
    "    print('Goodbye, world!')"
   ]
  },
  {
   "cell_type": "markdown",
   "metadata": {},
   "source": [
    "- finally절이 있으면 try문이 완료되기 전에 finally절이 마지막 작업으로 실행됨\n",
    "\n",
    "\n",
    "- finally절은 try문이 예외를 생성하는지와 관계없이 실행됨\n",
    "\n",
    "\n",
    "- 예외가 발생할 때 더 복잡한 경우\n",
    "    - try절을 실행하는 동안 예외가 발생하면, except절에서 예외를 처리할 수 있습니다. \n",
    "    - 예외가 except절에서 처리되지 않으면, finally절이 실행된 후 예외가 다시 발생\n",
    "    - except나 else절 실행 중 예외가 발생 가능. 다시 finally 절이 실행된 후 예외가 다시 발생\n",
    "    - try문이 break, continue 또는 return문에 도달하면, finally 절은 break, continue 또는 return문 실행 직전에 실행\n",
    "    \n",
    "    - finally절에 return문이 포함된다면 반환값은 try절의 return 문이 주는 값이 아니라 finally절의 return문이 주는 값이 됩니다."
   ]
  },
  {
   "cell_type": "markdown",
   "metadata": {},
   "source": [
    "- simple ex"
   ]
  },
  {
   "cell_type": "code",
   "execution_count": 12,
   "metadata": {},
   "outputs": [
    {
     "data": {
      "text/plain": [
       "False"
      ]
     },
     "execution_count": 12,
     "metadata": {},
     "output_type": "execute_result"
    }
   ],
   "source": [
    "def bool_return() :\n",
    "    try :\n",
    "        return True\n",
    "    finally :\n",
    "        return False\n",
    "    \n",
    "bool_return()"
   ]
  },
  {
   "cell_type": "markdown",
   "metadata": {},
   "source": [
    "- complicated ex"
   ]
  },
  {
   "cell_type": "code",
   "execution_count": 13,
   "metadata": {},
   "outputs": [],
   "source": [
    "def divide(x, y) :\n",
    "    try :\n",
    "        result = x/ y\n",
    "        \n",
    "    except ZeroDivisionError :\n",
    "        print(\"division by zero!\")\n",
    "        \n",
    "    else :\n",
    "        print(\"result is\", result)\n",
    "        \n",
    "    finally :\n",
    "        print(\"executing finally clause\")"
   ]
  },
  {
   "cell_type": "code",
   "execution_count": 14,
   "metadata": {},
   "outputs": [
    {
     "name": "stdout",
     "output_type": "stream",
     "text": [
      "result is 2.0\n",
      "executing finally clause\n"
     ]
    }
   ],
   "source": [
    "divide(2, 1)"
   ]
  },
  {
   "cell_type": "code",
   "execution_count": 15,
   "metadata": {},
   "outputs": [
    {
     "name": "stdout",
     "output_type": "stream",
     "text": [
      "division by zero!\n",
      "executing finally clause\n"
     ]
    }
   ],
   "source": [
    "divide(2, 0)"
   ]
  },
  {
   "cell_type": "markdown",
   "metadata": {},
   "source": [
    "=> 보신 바와 같이 finally 절은 모든 경우에 실행됨\n",
    "\n",
    "- TypeError는 except절에 의해 처리되지 않고 finally 절이 실행된 후에 다시 일어남\n",
    "- finally절은 외부 자원을 사용할 때, 성공적인지 아닌지와 관계없이, 그 자원을 반납하는데 유용 (file이나 network 연결 같은 것들)"
   ]
  },
  {
   "cell_type": "markdown",
   "metadata": {},
   "source": [
    " "
   ]
  },
  {
   "cell_type": "markdown",
   "metadata": {},
   "source": [
    " \n"
   ]
  },
  {
   "cell_type": "markdown",
   "metadata": {},
   "source": [
    "## 미리 정의된 뒷정리 동작들"
   ]
  },
  {
   "cell_type": "markdown",
   "metadata": {},
   "source": [
    "- 어떤 객체들은 객체가 더 필요 없을 때 개입하는 표준 뒷정리 동작을 정의합니다. \n",
    "\n",
    "- 그 객체를 사용하는 연산의 성공 여부와 관계없음\n",
    "\n",
    "- 파일을 열고 그 내용을 화면에 인쇄하려고 하는 예시"
   ]
  },
  {
   "cell_type": "code",
   "execution_count": null,
   "metadata": {},
   "outputs": [],
   "source": [
    "for line in open(\"myfile.txt\") :\n",
    "    print(line, end = \"\")"
   ]
  },
  {
   "cell_type": "markdown",
   "metadata": {},
   "source": [
    "=> 이 부분이 실행을 끝낸 뒤에도 예측할 수 없는 기간 동안 파일을 열린 채로 둔다는 것   \n",
    "       \n",
    "간단한 script에서는 문제가 되지 않지만, 큰 응용 프로그램에서는 문제가 될 수 있음    \n",
    "    \n",
    "with문은 file과 같은 객체들이 즉시 올바르게 뒷정리 되도록 보장하는 방법을 제공"
   ]
  },
  {
   "cell_type": "code",
   "execution_count": null,
   "metadata": {},
   "outputs": [],
   "source": [
    "with open(\"myfile.txt\") as f:\n",
    "    for line in f :\n",
    "        print(line, end = \"\")"
   ]
  },
  {
   "cell_type": "markdown",
   "metadata": {},
   "source": [
    "=> 문장이 실행된 후에 줄을 처리하는 데 문제가 발생하더라도 파일 f는 항상 닫힙니다.   \n",
    "    \n",
    "file과 같이 미리 정의된 뒷정리 동작들을 제공하는 객체들은 그들의 설명서에서 이 사실을 설명함."
   ]
  }
 ],
 "metadata": {
  "kernelspec": {
   "display_name": "Python 3",
   "language": "python",
   "name": "python3"
  },
  "language_info": {
   "codemirror_mode": {
    "name": "ipython",
    "version": 3
   },
   "file_extension": ".py",
   "mimetype": "text/x-python",
   "name": "python",
   "nbconvert_exporter": "python",
   "pygments_lexer": "ipython3",
   "version": "3.8.5"
  }
 },
 "nbformat": 4,
 "nbformat_minor": 4
}
